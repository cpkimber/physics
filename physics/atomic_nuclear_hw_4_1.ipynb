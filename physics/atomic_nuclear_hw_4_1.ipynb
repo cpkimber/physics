{
 "cells": [
  {
   "cell_type": "code",
   "execution_count": 42,
   "metadata": {},
   "outputs": [
    {
     "name": "stdout",
     "output_type": "stream",
     "text": [
      "Populating the interactive namespace from numpy and matplotlib\n"
     ]
    },
    {
     "name": "stderr",
     "output_type": "stream",
     "text": [
      "/home/cam/anaconda3/lib/python3.6/site-packages/IPython/core/magics/pylab.py:160: UserWarning: pylab import has clobbered these variables: ['e', 'sin', 'pi', 'ma']\n",
      "`%matplotlib` prevents importing * from pylab and numpy\n",
      "  \"\\n`%matplotlib` prevents importing * from pylab and numpy\"\n"
     ]
    }
   ],
   "source": [
    "from math import sin, pi\n",
    "%pylab inline\n"
   ]
  },
  {
   "cell_type": "code",
   "execution_count": 43,
   "metadata": {},
   "outputs": [],
   "source": [
    "k  = 9e9      # oofpez\n",
    "za = 2        # atomic number of helium\n",
    "zg = 79       # atomic number of gold\n",
    "v  = (3e8)/20 # m/s\n",
    "ma = 6.64e-27 # kg\n",
    "e  = 1.6e-19  # coulombs\n",
    "ipt = 3.56e29\n",
    "\n",
    "const = (k**2) * (((za * zg * e**2)/(2 * ma * v**2))**2) * ipt * 2 * pi\n",
    "\n",
    "n10 = 1e6"
   ]
  },
  {
   "cell_type": "code",
   "execution_count": 66,
   "metadata": {},
   "outputs": [
    {
     "name": "stdout",
     "output_type": "stream",
     "text": [
      "     Angle  |    N(th)\n",
      "==========================\n",
      "  1.00e+01  |   9.99e+05\n",
      "  2.00e+01  |   1.25e+05\n",
      "  3.00e+01  |   3.70e+04\n",
      "  4.00e+01  |   1.56e+04\n",
      "  5.00e+01  |   7.97e+03\n",
      "  6.00e+01  |   4.60e+03\n",
      "  7.00e+01  |   2.88e+03\n",
      "  8.00e+01  |   1.92e+03\n",
      "  9.00e+01  |   1.33e+03\n",
      "  1.00e+02  |   9.49e+02\n",
      "  1.10e+02  |   6.93e+02\n",
      "  1.20e+02  |   5.11e+02\n",
      "  1.30e+02  |   3.77e+02\n",
      "  1.40e+02  |   2.74e+02\n",
      "  1.50e+02  |   1.91e+02\n",
      "  1.60e+02  |   1.21e+02\n",
      "  1.70e+02  |   5.85e+01\n",
      "  1.80e+02  |   4.07e-14\n",
      "  1.90e+02  |  -5.85e+01\n",
      "  2.00e+02  |  -1.21e+02\n",
      "  2.10e+02  |  -1.91e+02\n",
      "  2.20e+02  |  -2.74e+02\n",
      "  2.30e+02  |  -3.77e+02\n",
      "  2.40e+02  |  -5.11e+02\n",
      "  2.50e+02  |  -6.93e+02\n",
      "  2.60e+02  |  -9.49e+02\n",
      "  2.70e+02  |  -1.33e+03\n",
      "  2.80e+02  |  -1.92e+03\n"
     ]
    },
    {
     "data": {
      "image/png": "[encoded data removed]",
      "text/plain": [
       "<Figure size 432x288 with 1 Axes>"
      ]
     },
     "metadata": {},
     "output_type": "display_data"
    }
   ],
   "source": [
    "i = arange(10,281, 10)\n",
    "print(\"     Angle  |    N(th)\")\n",
    "print(\"==========================\")\n",
    "for w in i:\n",
    "    plt.plot(w, const * sin(radians(w))/(sin(radians(w/2)))**4, 'g*')\n",
    "    plt.title(\"Scattering as a function of Angle\")\n",
    "    plt.xlabel(\"Angle (Rad)\")\n",
    "    plt.ylabel(\"N\")\n",
    "    print(\"%10.2e  | %10.2e\" %(w, const * sin(radians(w))/(sin(radians(w/2)))**4))"
   ]
  }
 ],
 "metadata": {
  "kernelspec": {
   "display_name": "Python 3",
   "language": "python",
   "name": "python3"
  },
  "language_info": {
   "codemirror_mode": {
    "name": "ipython",
    "version": 3
   },
   "file_extension": ".py",
   "mimetype": "text/x-python",
   "name": "python",
   "nbconvert_exporter": "python",
   "pygments_lexer": "ipython3",
   "version": "3.6.5"
  }
 },
 "nbformat": 4,
 "nbformat_minor": 2
}
