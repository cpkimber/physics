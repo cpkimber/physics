{
 "cells": [
  {
   "cell_type": "code",
   "execution_count": 3,
   "metadata": {},
   "outputs": [],
   "source": [
    "from matplotlib import pyplot as plt\n",
    "import numpy as np"
   ]
  },
  {
   "cell_type": "code",
   "execution_count": 4,
   "metadata": {},
   "outputs": [],
   "source": [
    "from math import e, pi\n",
    "a = 5.29e-11 \n",
    "e0 = 8.85e-12\n",
    "q = 1.6e-19"
   ]
  },
  {
   "cell_type": "code",
   "execution_count": 5,
   "metadata": {},
   "outputs": [],
   "source": [
    "def e_with_pro(r):\n",
    "    den = (- q / a **3) * (-((r**2) *a/2 )-((a**2) *r/2 )-(a**3)/4)* (e**(-2*r/a)) + q\n",
    "    num = e0 * pi * r**2\n",
    "    E = den/num\n",
    "    return E"
   ]
  },
  {
   "cell_type": "code",
   "execution_count": 6,
   "metadata": {},
   "outputs": [],
   "source": [
    "def e_no_pro(r):\n",
    "    den = (- q / a **3) * (-((r**2) *a/2 )-((a**2) *r/2 )-(a**3)/4)* (e**(-2*r/a))\n",
    "    num = e0 * pi * r**2\n",
    "    E = den/num\n",
    "    return E"
   ]
  },
  {
   "cell_type": "code",
   "execution_count": 7,
   "metadata": {},
   "outputs": [],
   "source": [
    "def integrate(f, A, b, N):\n",
    "    \n",
    "    X = np.linspace(A, b, N)\n",
    "    fx = f(X)\n",
    "    deltaX = 1.0 *(b-A)/N\n",
    "    area = sum(fx)*deltaX\n",
    "    return area"
   ]
  },
  {
   "cell_type": "code",
   "execution_count": 8,
   "metadata": {},
   "outputs": [],
   "source": [
    "def ewpa(r):\n",
    "    return e_with_pro(r)\n",
    "\n",
    "def enpa(r):\n",
    "    return e_no_pro(r)"
   ]
  },
  {
   "cell_type": "code",
   "execution_count": 16,
   "metadata": {},
   "outputs": [
    {
     "name": "stderr",
     "output_type": "stream",
     "text": [
      "/home/cam/anaconda3/lib/python3.6/site-packages/ipykernel_launcher.py:1: DeprecationWarning: object of type <class 'float'> cannot be safely interpreted as an integer.\n",
      "  \"\"\"Entry point for launching an IPython kernel.\n"
     ]
    },
    {
     "data": {
      "text/plain": [
       "Text(0,0.5,'Distance (m)')"
      ]
     },
     "execution_count": 16,
     "metadata": {},
     "output_type": "execute_result"
    },
    {
     "data": {
      "image/png": "[encoded data removed]",
      "text/plain": [
       "<Figure size 432x288 with 1 Axes>"
      ]
     },
     "metadata": {},
     "output_type": "display_data"
    }
   ],
   "source": [
    "x = np.linspace(5e-12, 4 * a, 1e3)\n",
    "plt.plot(x, e_with_pro(x))\n",
    "plt.title(\"E Field of a Hydrogen Atom (Inlcuding Proton)\")\n",
    "plt.xlabel(\"E Field (N/C)\")\n",
    "plt.ylabel(\"Distance (m)\")"
   ]
  },
  {
   "cell_type": "code",
   "execution_count": 17,
   "metadata": {},
   "outputs": [
    {
     "name": "stdout",
     "output_type": "stream",
     "text": [
      "1.44e+03\n"
     ]
    }
   ],
   "source": [
    "print(\"%2.2e\" % integrate(enpa, 1e-12, a, 1000))\n"
   ]
  }
 ],
 "metadata": {
  "kernelspec": {
   "display_name": "Python 3",
   "language": "python",
   "name": "python3"
  },
  "language_info": {
   "codemirror_mode": {
    "name": "ipython",
    "version": 3
   },
   "file_extension": ".py",
   "mimetype": "text/x-python",
   "name": "python",
   "nbconvert_exporter": "python",
   "pygments_lexer": "ipython3",
   "version": "3.6.5"
  }
 },
 "nbformat": 4,
 "nbformat_minor": 2
}
