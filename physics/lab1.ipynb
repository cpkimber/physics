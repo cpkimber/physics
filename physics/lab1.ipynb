{
 "cells": [
  {
   "cell_type": "code",
   "execution_count": 39,
   "metadata": {},
   "outputs": [
    {
     "name": "stdout",
     "output_type": "stream",
     "text": [
      "Populating the interactive namespace from numpy and matplotlib\n"
     ]
    }
   ],
   "source": [
    "%pylab inline\n",
    "import statistics"
   ]
  },
  {
   "cell_type": "code",
   "execution_count": 2,
   "metadata": {},
   "outputs": [],
   "source": [
    "hg_th = [\n",
    "    [11 + 16/60, 11 + 18/60, 11 + 18/60], # Violet\n",
    "    [5.5 + 9/30, 3.5 + 7/30, 3.5 + 7/30], # Green\n",
    "    [1 + 29/60, 1 + 27/60, 1 + 28/60],    # Yellow 1\n",
    "    [1 + 1/6, 1 + 21/60, 1 + 19/60]       # Yellow 2\n",
    "]\n",
    "\n",
    "hg_wl = [4358.3, 4916.0, 5460.7, 5769.6]\n",
    "\n",
    "for i in range(len(hg_wl)):\n",
    "    hg_wl[i] = hg_wl[i] * 10**-10"
   ]
  },
  {
   "cell_type": "code",
   "execution_count": 3,
   "metadata": {},
   "outputs": [
    {
     "name": "stdout",
     "output_type": "stream",
     "text": [
      "[[0.5974843805993921, 0.5969026041820608, 0.5969026041820608], [0.6928957130417489, 0.7289658509162982, 0.7289658509162982], [0.7682357590861707, 0.7688175355035021, 0.7685266472948364], [0.7737626350508195, 0.7705628647554964, 0.7711446411728278]]\n"
     ]
    }
   ],
   "source": [
    "for i in hg_th:\n",
    "    for j in range(len(i)):\n",
    "        i[j] = (45.5 - i[j]) * pi / 180\n",
    "print(hg_th)"
   ]
  },
  {
   "cell_type": "code",
   "execution_count": 4,
   "metadata": {},
   "outputs": [
    {
     "data": {
      "image/png": "[encoded data removed]",
      "text/plain": [
       "<Figure size 432x288 with 1 Axes>"
      ]
     },
     "metadata": {},
     "output_type": "display_data"
    }
   ],
   "source": [
    "for i in range(len(hg_th)):\n",
    "    for j in hg_th[i]:\n",
    "        plt.plot(sin(j), hg_wl[i], 'g*') \n",
    "\n"
   ]
  },
  {
   "cell_type": "code",
   "execution_count": 5,
   "metadata": {},
   "outputs": [],
   "source": [
    "asdf = []\n",
    "for i in hg_th:\n",
    "    for j in i:\n",
    "        asdf.append(sin(j))"
   ]
  },
  {
   "cell_type": "code",
   "execution_count": 6,
   "metadata": {},
   "outputs": [
    {
     "name": "stdout",
     "output_type": "stream",
     "text": [
      "9.17e-07\n"
     ]
    }
   ],
   "source": [
    "hg_wl = [4358.3,4358.3,4358.3,4916.0,4916.0,4916.0,5460.7,5460.7,5460.7,5769.6,5769.6,5769.6]\n",
    "slope, intercept = polyfit(asdf, hg_wl, 1)\n",
    "d = slope * 10 ** -10\n",
    "print(\"%2.2e\" % d)"
   ]
  },
  {
   "cell_type": "code",
   "execution_count": 18,
   "metadata": {},
   "outputs": [],
   "source": [
    "incident = 45.5 * pi / 180\n",
    "sinthi   = sin(incident)"
   ]
  },
  {
   "cell_type": "code",
   "execution_count": 19,
   "metadata": {},
   "outputs": [],
   "source": [
    "hd_th = [\n",
    "    [11 + 13/60],                            # blue\n",
    "    [9.5 + 19/30, 9.5 + 18/30, 9.5 + 17/30], # aqua\n",
    "    [1 + 1/12, 1 + 2/60, 1 + 16/60],         # red 1 \n",
    "    [1, 1 + 1/60, 1 + 9/60]                  # red 2\n",
    "]\n",
    "\n",
    "for i in hd_th:\n",
    "    for j in range(len(i)):\n",
    "        i[j] = (i[j]) * pi / 180"
   ]
  },
  {
   "cell_type": "code",
   "execution_count": 20,
   "metadata": {},
   "outputs": [
    {
     "name": "stdout",
     "output_type": "stream",
     "text": [
      "[4.755355471818979e-07, 4.925685873272719e-07, 4.930936264853565e-07, 4.936187200561559e-07, 6.365251605148105e-07, 6.373250210173884e-07, 6.335924562312287e-07, 6.378582683845538e-07, 6.375916440128001e-07, 6.354587004821556e-07]\n"
     ]
    }
   ],
   "source": [
    "hd_wl = []\n",
    "for i in hd_th:\n",
    "    for j in i:\n",
    "        hd_wl.append(d * (sinthi - sin(j)))\n",
    "print(hd_wl)"
   ]
  },
  {
   "cell_type": "markdown",
   "metadata": {},
   "source": [
    "red 656.45 aqua 486.13 blue 434.04 violet 410.17"
   ]
  },
  {
   "cell_type": "code",
   "execution_count": 21,
   "metadata": {},
   "outputs": [
    {
     "data": {
      "image/png": "[encoded data removed]",
      "text/plain": [
       "<Figure size 432x288 with 1 Axes>"
      ]
     },
     "metadata": {},
     "output_type": "display_data"
    }
   ],
   "source": [
    "inv_ints = [1/5, 1/4, 1/4, 1/4, 1/3, 1/3, 1/3, 1/3, 1/3, 1/3]\n",
    "for i in range(len(hd_wl)):\n",
    "    plt.plot((inv_ints[i]**2 - 1/4), 1/hd_wl[i], 'g*')\n",
    "    "
   ]
  },
  {
   "cell_type": "code",
   "execution_count": 43,
   "metadata": {},
   "outputs": [
    {
     "name": "stdout",
     "output_type": "stream",
     "text": [
      "1.17e+07\n"
     ]
    },
    {
     "data": {
      "text/plain": [
       "0.07038403334419112"
      ]
     },
     "execution_count": 43,
     "metadata": {},
     "output_type": "execute_result"
    }
   ],
   "source": [
    "fdsa = []\n",
    "for i in hd_wl:\n",
    "    fdsa.append(1/i)\n",
    "asdf = []\n",
    "for i in hd_th:\n",
    "    for j in i:\n",
    "        asdf.append(j)\n",
    "slope2, intercept2 = polyfit(asdf, fdsa , 1)\n",
    "ryd = slope2* 4\n",
    "print(\"%2.2e\" % ryd)\n",
    "(ryd - 10973731)/10973731"
   ]
  },
  {
   "cell_type": "code",
   "execution_count": 41,
   "metadata": {},
   "outputs": [
    {
     "name": "stdout",
     "output_type": "stream",
     "text": [
      "1.1526892680004234e-09 8.126593574423344e-10\n"
     ]
    }
   ],
   "source": [
    "dt = []\n",
    "for i in range(len(hd_th[-2])):\n",
    "    dt.append(hd_th[-2][i]-hd_th[-1][i])\n",
    "\n",
    "dl = []    \n",
    "for i in dt:\n",
    "    dl.append(d * cos((4 + 1/30) * pi/180) * i)\n",
    "    \n",
    "print(mean(dl), statistics.stdev(dl))"
   ]
  }
 ],
 "metadata": {
  "kernelspec": {
   "display_name": "Python 3",
   "language": "python",
   "name": "python3"
  },
  "language_info": {
   "codemirror_mode": {
    "name": "ipython",
    "version": 3
   },
   "file_extension": ".py",
   "mimetype": "text/x-python",
   "name": "python",
   "nbconvert_exporter": "python",
   "pygments_lexer": "ipython3",
   "version": "3.6.5"
  }
 },
 "nbformat": 4,
 "nbformat_minor": 2
}
