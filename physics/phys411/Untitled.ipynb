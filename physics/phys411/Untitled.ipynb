{
 "cells": [
  {
   "cell_type": "code",
   "execution_count": 14,
   "metadata": {},
   "outputs": [
    {
     "name": "stdout",
     "output_type": "stream",
     "text": [
      "Populating the interactive namespace from numpy and matplotlib\n"
     ]
    }
   ],
   "source": [
    "%pylab inline\n",
    "plt.ion()"
   ]
  },
  {
   "cell_type": "code",
   "execution_count": 80,
   "metadata": {},
   "outputs": [
    {
     "name": "stdout",
     "output_type": "stream",
     "text": [
      "0.595 41.79\n"
     ]
    }
   ],
   "source": [
    "l  = (42.92 + 40.66)/ 2\n",
    "R  = 8.315\n",
    "c1 = 1.06\n",
    "c2 = 0.13\n",
    "c  = (c1 + c2)/ 2\n",
    "print(c, l)"
   ]
  },
  {
   "cell_type": "code",
   "execution_count": 102,
   "metadata": {},
   "outputs": [],
   "source": [
    "table_ts = [-40, -20, 0, 0.01, 25, 50, 100, 150, 200, 250, 300, 350, 374]\n",
    "table_ps = [0.00013, 0.00103, 0.00611, 0.00612, 0.0317, 0.1234, 1.013, 4.757, 15.54, 39.74, 85.84, 165.2, 220.6]\n",
    "table_ts = [i + 273.15 for i in table_ts]"
   ]
  },
  {
   "cell_type": "code",
   "execution_count": 109,
   "metadata": {},
   "outputs": [],
   "source": [
    "ts = arange(50 + 273.15, 100 + 273.15, 0.01)\n",
    "ps = e**(-l / (R* ts))"
   ]
  },
  {
   "cell_type": "code",
   "execution_count": 110,
   "metadata": {},
   "outputs": [
    {
     "data": {
      "image/png": "[encoded data removed]",
      "text/plain": [
       "<Figure size 432x288 with 1 Axes>"
      ]
     },
     "metadata": {},
     "output_type": "display_data"
    }
   ],
   "source": [
    "plt.plot(table_ts, table_ps, 'g*')\n",
    "plt.plot(ts, ps)\n",
    "plt.title(\"Problem 5.36 part a\")\n",
    "plt.xlabel(\"T\")\n",
    "plt.ylabel(\"L (kJ/mol)\")\n",
    "plt.savefig(\"p532a.png\")"
   ]
  },
  {
   "cell_type": "code",
   "execution_count": 91,
   "metadata": {},
   "outputs": [
    {
     "name": "stdout",
     "output_type": "stream",
     "text": [
      "-6.428120319149295e-05 0.9032299481861864\n"
     ]
    },
    {
     "data": {
      "image/png": "[encoded data removed]",
      "text/plain": [
       "<Figure size 432x288 with 1 Axes>"
      ]
     },
     "metadata": {},
     "output_type": "display_data"
    }
   ],
   "source": [
    "zs = [1430, 3090, 4420, 8840]\n",
    "pz = [0.84, 0.69, 0.59, 0.35]\n",
    "a, b = np.polyfit(zs, pz, 1)\n",
    "plt.plot(zs, pz, 'g*')\n",
    "print(a, b)"
   ]
  }
 ],
 "metadata": {
  "kernelspec": {
   "display_name": "Python 3",
   "language": "python",
   "name": "python3"
  },
  "language_info": {
   "codemirror_mode": {
    "name": "ipython",
    "version": 3
   },
   "file_extension": ".py",
   "mimetype": "text/x-python",
   "name": "python",
   "nbconvert_exporter": "python",
   "pygments_lexer": "ipython3",
   "version": "3.6.5"
  }
 },
 "nbformat": 4,
 "nbformat_minor": 2
}
