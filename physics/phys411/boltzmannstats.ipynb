{
 "cells": [
  {
   "cell_type": "code",
   "execution_count": 140,
   "metadata": {},
   "outputs": [
    {
     "name": "stdout",
     "output_type": "stream",
     "text": [
      "Populating the interactive namespace from numpy and matplotlib\n"
     ]
    },
    {
     "name": "stderr",
     "output_type": "stream",
     "text": [
      "/home/cam/anaconda3/lib/python3.6/site-packages/IPython/core/magics/pylab.py:160: UserWarning: pylab import has clobbered these variables: ['f']\n",
      "`%matplotlib` prevents importing * from pylab and numpy\n",
      "  \"\\n`%matplotlib` prevents importing * from pylab and numpy\"\n"
     ]
    }
   ],
   "source": [
    "%pylab inline\n",
    "from decimal import *\n",
    "k = 8.617e-5\n",
    "h = 4.135667662e-15\n",
    "c = 3e8\n",
    "c2 = c**2"
   ]
  },
  {
   "cell_type": "markdown",
   "metadata": {},
   "source": [
    "Problem 6.3"
   ]
  },
  {
   "cell_type": "code",
   "execution_count": 2,
   "metadata": {},
   "outputs": [
    {
     "name": "stderr",
     "output_type": "stream",
     "text": [
      "/home/cam/anaconda3/lib/python3.6/site-packages/ipykernel_launcher.py:2: RuntimeWarning: divide by zero encountered in true_divide\n",
      "  \n"
     ]
    },
    {
     "data": {
      "text/plain": [
       "[<matplotlib.lines.Line2D at 0x7fc3484a2e48>]"
      ]
     },
     "execution_count": 2,
     "metadata": {},
     "output_type": "execute_result"
    },
    {
     "data": {
      "image/png": "[encoded data removed]",
      "text/plain": [
       "<Figure size 432x288 with 1 Axes>"
      ]
     },
     "metadata": {},
     "output_type": "display_data"
    }
   ],
   "source": [
    "t = arange(0,300000,1)\n",
    "plt.plot(t, 1+e**(-2/(k*t)))"
   ]
  },
  {
   "cell_type": "code",
   "execution_count": 120,
   "metadata": {},
   "outputs": [],
   "source": [
    "def partitionFunction(energies, T = 300, c = 0):\n",
    "    \n",
    "    # energies needs to be list or array, T is temperature in Kelvin, and c is just a little counter \n",
    "    # used in table formatting\n",
    "   \n",
    "    partitions = [e**((-energy)/(k*T)) for energy in energies]\n",
    "    z = sum(partitions)\n",
    "    \n",
    "      # partitions and z calculates the boltzmann factor of\n",
    "      # each energy then sums them up \n",
    "      # the following statement just prints z\n",
    "        \n",
    "    print(\"The partition function is equal to: %2.2e \\n\" % z)\n",
    "    \n",
    "      # this loop prints the probability of each\n",
    "      # energy in the distribution after\n",
    "      # some table formatting.\n",
    "        \n",
    "    print(\"Energy Level      Probability\")\n",
    "    print(\"=============================\")\n",
    "    \n",
    "    for partition in partitions:\n",
    "        print(\"  E%i \\t \\t  %2.2e\" % (c, (partition/z)))\n",
    "        c+=1"
   ]
  },
  {
   "cell_type": "markdown",
   "metadata": {},
   "source": [
    "Problem 6.5"
   ]
  },
  {
   "cell_type": "code",
   "execution_count": 103,
   "metadata": {},
   "outputs": [
    {
     "name": "stdout",
     "output_type": "stream",
     "text": [
      "The partition function is equal to: 8.06e+00 \n",
      "\n",
      "Energy Level      Probability\n",
      "=============================\n",
      "  E0 \t \t  1.24e-01\n",
      "  E1 \t \t  8.58e-01\n",
      "  E2 \t \t  1.79e-02\n"
     ]
    }
   ],
   "source": [
    "Z = (partitionFunction([0, -0.05, 0.05]))\n",
    "E1 = e**(0.05/(k*300))\n",
    "E2 = e**(-0.05/(k*300))\n",
    "E3 = e**(0/(k*300))"
   ]
  },
  {
   "cell_type": "code",
   "execution_count": 116,
   "metadata": {},
   "outputs": [
    {
     "name": "stdout",
     "output_type": "stream",
     "text": [
      "The partition function is equal to:   1.17e+00 \n",
      "\n",
      "Energy Level      Probability\n",
      "=============================\n",
      "  E0 \t \t    8.58e-01\n",
      "  E1 \t \t    1.24e-01\n",
      "  E2 \t \t    1.79e-02\n"
     ]
    }
   ],
   "source": [
    "ZB = partitionFunction([0, 0.05, 0.1])\n",
    "EB1 = e**(0/(k*300))\n",
    "EB2 = e**(-0.05/(k*300))\n",
    "EB3 = e**(-0.1/(k*300))"
   ]
  },
  {
   "cell_type": "markdown",
   "metadata": {},
   "source": [
    "Problem 6.10"
   ]
  },
  {
   "cell_type": "code",
   "execution_count": 155,
   "metadata": {},
   "outputs": [
    {
     "name": "stdout",
     "output_type": "stream",
     "text": [
      "The partition function is equal to: 4.02e+279 \n",
      "\n",
      "Energy Level      Probability\n",
      "=============================\n",
      "  E0 \t \t  1.09e-261\n",
      "  E1 \t \t  2.07e-224\n",
      "  E2 \t \t  3.96e-187\n",
      "  E3 \t \t  7.55e-150\n",
      "  E4 \t \t  1.44e-112\n",
      "  E5 \t \t  2.75e-75\n",
      "  E6 \t \t  5.24e-38\n",
      "  E7 \t \t  1.00e+00\n"
     ]
    }
   ],
   "source": [
    "f = 4.8e13\n",
    "energy_levels = [i * h * f for i in arange(1/2, 17/2, 1)]\n",
    "partitionFunction(energy_levels, 700)"
   ]
  },
  {
   "cell_type": "markdown",
   "metadata": {},
   "source": [
    "Problem 6.11"
   ]
  },
  {
   "cell_type": "code",
   "execution_count": 139,
   "metadata": {},
   "outputs": [
    {
     "name": "stdout",
     "output_type": "stream",
     "text": [
      "The partition function is equal to: 4.00e+00 \n",
      "\n",
      "Energy Level      Probability\n",
      "=============================\n",
      "  E0 \t \t  2.50e-01\n",
      "  E1 \t \t  2.50e-01\n",
      "  E2 \t \t  2.50e-01\n",
      "  E3 \t \t  2.50e-01\n"
     ]
    }
   ],
   "source": [
    "mu = 1.03e-7\n",
    "B  = 0.63\n",
    "m  = arange(-3/2, 5/2, 1)\n",
    "energies = [- i * mu * B for i in m]\n",
    "partitionFunction(energies)"
   ]
  },
  {
   "cell_type": "markdown",
   "metadata": {},
   "source": [
    "Problem 6.12"
   ]
  },
  {
   "cell_type": "code",
   "execution_count": 146,
   "metadata": {},
   "outputs": [
    {
     "data": {
      "text/plain": [
       "2.3701250202140057e-08"
      ]
     },
     "execution_count": 146,
     "metadata": {},
     "output_type": "execute_result"
    }
   ],
   "source": [
    "e = 4.7e-12\n",
    "pe0 = 10/13\n",
    "pe1 = 3/13\n",
    "logarg = 1/3 * (1/0.769 - 1)\n",
    "den = k * log(logarg)\n",
    "ansT = -e/den\n",
    "ansT"
   ]
  },
  {
   "cell_type": "markdown",
   "metadata": {},
   "source": [
    "Problem 6.13"
   ]
  },
  {
   "cell_type": "code",
   "execution_count": 176,
   "metadata": {},
   "outputs": [
    {
     "name": "stdout",
     "output_type": "stream",
     "text": [
      "1293750.0\n"
     ]
    },
    {
     "data": {
      "text/plain": [
       "50.206834516377306"
      ]
     },
     "execution_count": 176,
     "metadata": {},
     "output_type": "execute_result"
    }
   ],
   "source": [
    "dm = 2.3e-30\n",
    "de = dm * c2\n",
    "de /= 1.6e-19\n",
    "print(de)\n",
    "t1 = 1e11\n",
    "1/e**(de/(k*t1))"
   ]
  }
 ],
 "metadata": {
  "kernelspec": {
   "display_name": "Python 3",
   "language": "python",
   "name": "python3"
  },
  "language_info": {
   "codemirror_mode": {
    "name": "ipython",
    "version": 3
   },
   "file_extension": ".py",
   "mimetype": "text/x-python",
   "name": "python",
   "nbconvert_exporter": "python",
   "pygments_lexer": "ipython3",
   "version": "3.6.5"
  }
 },
 "nbformat": 4,
 "nbformat_minor": 2
}
