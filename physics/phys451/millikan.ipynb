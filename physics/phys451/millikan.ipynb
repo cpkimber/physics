{
 "cells": [
  {
   "cell_type": "code",
   "execution_count": 42,
   "metadata": {},
   "outputs": [],
   "source": [
    "import matplotlib.pyplot as plt\n",
    "import numpy as np\n",
    "from scipy.stats import mode\n",
    "from math import pi"
   ]
  },
  {
   "cell_type": "markdown",
   "metadata": {},
   "source": [
    "The following list is the characterization of each observed drop. The first value represents the fall time in seconds for the drop to fall 2 mm, the second is the size in mm the drop was on the screen, and the third is the voltage required to suspend the drop in the air."
   ]
  },
  {
   "cell_type": "code",
   "execution_count": 26,
   "metadata": {},
   "outputs": [],
   "source": [
    "drops = [[13.3, 1, 21],\n",
    "         [32.2, 1, 40],\n",
    "         [63.2, 0.9, 10],\n",
    "         [76.7, 1, 17],\n",
    "         [35.5, 1.1, 9],\n",
    "         [112.1, 0.7, 7],\n",
    "         [113.7, 0.7, 7],\n",
    "         [10.2, 1.1, 30],\n",
    "         [41.3, 1.5, 53], \n",
    "         [4.7, 1.2, 134],\n",
    "         [9.7, 1, 263],\n",
    "         [9.8, 1, 44.5],\n",
    "         [74.7, 1, 105],\n",
    "         [22.7, 1.1, 18],\n",
    "         [8.4, 1.1, 194],\n",
    "         [60, 0.9, 9],\n",
    "         [51.4, 1, 45] ]"
   ]
  },
  {
   "cell_type": "code",
   "execution_count": 27,
   "metadata": {},
   "outputs": [],
   "source": [
    "times    = [i[0] for i in drops]\n",
    "voltages = [i[2] for i in drops]"
   ]
  },
  {
   "cell_type": "markdown",
   "metadata": {},
   "source": [
    "Parameters and constants"
   ]
  },
  {
   "cell_type": "code",
   "execution_count": 28,
   "metadata": {},
   "outputs": [
    {
     "name": "stdout",
     "output_type": "stream",
     "text": [
      "57.64411027568922\n"
     ]
    }
   ],
   "source": [
    "wire_radius = 0.266             # mm\n",
    "wr_error    = 0.002             # mm\n",
    "calibration = [15, 15, 16]      # mm\n",
    "calibration_uncertainty = 0.5   # mm\n",
    "\n",
    "g    = 9.8                         # ms^-2\n",
    "b    = 6.17e-6                     # m(cmHg)\n",
    "I    = 2                           # mm \n",
    "p    = 75.9999951996077            # cmHg\n",
    "eta1 = 1.846e-5                    # kg/m s\n",
    "eta2 = 1.568e-5                    # kg/m s\n",
    "\n",
    "magnification = np.mean(calibration)/wire_radius\n",
    "print(magnification)\n",
    "\n",
    "v0 = 2                          # v\n",
    "\n",
    "rho_oil = 981                   # kgm^-3\n",
    "ro_err  = 5                     # kgm^-3"
   ]
  },
  {
   "cell_type": "code",
   "execution_count": 29,
   "metadata": {},
   "outputs": [
    {
     "name": "stdout",
     "output_type": "stream",
     "text": [
      "1.1398920927704012e-06\n",
      "7.325910787722725e-07\n",
      "5.229149066729674e-07\n",
      "4.7467010400972755e-07\n",
      "6.97710702710677e-07\n",
      "3.9263296100797247e-07\n",
      "3.89860584151644e-07\n",
      "1.3016357723744941e-06\n",
      "6.468663142221972e-07\n",
      "1.9175232238619385e-06\n",
      "1.3347615708948067e-06\n",
      "1.3279341012062205e-06\n",
      "4.809824836854681e-07\n",
      "8.725224957284358e-07\n",
      "1.434332762415136e-06\n",
      "5.366781775582466e-07\n",
      "5.798397735218486e-07\n"
     ]
    }
   ],
   "source": [
    "velocities = [2/(i[0] * 1000) for i in drops] # m/s\n",
    "\n",
    "radii = [np.sqrt((9 * eta1 * i)/ (2 * rho_oil * g)) for i in velocities] # m\n",
    "\n",
    "print('\\n'.join(str(i) for i in radii))"
   ]
  },
  {
   "cell_type": "code",
   "execution_count": 30,
   "metadata": {},
   "outputs": [],
   "source": [
    "eta_prime = [eta1/(1 + b/(p * i)) for i in radii]\n"
   ]
  },
  {
   "cell_type": "code",
   "execution_count": 35,
   "metadata": {},
   "outputs": [
    {
     "name": "stdout",
     "output_type": "stream",
     "text": [
      "7.390856649498143e-16\n",
      "1.0300249301336877e-16\n",
      "1.4983591272478498e-16\n",
      "6.592491337685771e-17\n",
      "3.954635823058759e-16\n",
      "9.061186644777483e-17\n",
      "8.870595954375139e-17\n",
      "7.703179585467844e-16\n",
      "5.351685555511792e-17\n",
      "5.51365959420469e-16\n",
      "9.474977454123277e-17\n",
      "5.514325658807032e-16\n",
      "1.1105070840991557e-17\n",
      "3.867054067414752e-16\n",
      "1.5939359873548842e-16\n",
      "1.7997913080926842e-16\n",
      "4.539775145634564e-17\n"
     ]
    }
   ],
   "source": [
    "constant = 18 * np.pi / np.sqrt(2 * rho_oil * g)\n",
    "charges  = [constant * ((eta1*2e-4)/(times[i]*(1 + (b/p*radii[i])))**(3/2)) * (5e-4/voltages[i]) for i in range(len(drops))]\n",
    "for i in charges:\n",
    "    print(i)"
   ]
  },
  {
   "cell_type": "code",
   "execution_count": 90,
   "metadata": {},
   "outputs": [],
   "source": [
    "diffs = []\n",
    "for i in charges:\n",
    "    for j in charges:\n",
    "        diffs.append(abs(i - j))\n",
    "        \n",
    "for i in diffs:\n",
    "    if i ==0:\n",
    "        diffs.remove(i)\n",
    "    \n",
    "\n",
    "short_diffs = [\"%2.5e\" % i for i in diffs]"
   ]
  },
  {
   "cell_type": "code",
   "execution_count": 91,
   "metadata": {},
   "outputs": [],
   "source": [
    "b = np.arange(8e-20, 2e-18, 1e-20)"
   ]
  },
  {
   "cell_type": "code",
   "execution_count": 92,
   "metadata": {},
   "outputs": [
    {
     "data": {
      "text/plain": [
       "(array([26., 24., 22., 16., 14.,  6.,  6., 10.,  4.,  4., 10.,  2.,  0.,\n",
       "        12.,  6., 10.,  4., 12.,  8.,  0.,  4., 12.,  8.,  4.,  4.,  2.,\n",
       "         2.,  4.,  4.,  8.,  2., 12.,  2.,  6.,  2.]),\n",
       " array([6.66065000e-20, 2.17565035e-17, 4.34464004e-17, 6.51362974e-17,\n",
       "        8.68261943e-17, 1.08516091e-16, 1.30205988e-16, 1.51895885e-16,\n",
       "        1.73585782e-16, 1.95275679e-16, 2.16965576e-16, 2.38655473e-16,\n",
       "        2.60345370e-16, 2.82035267e-16, 3.03725164e-16, 3.25415061e-16,\n",
       "        3.47104958e-16, 3.68794855e-16, 3.90484752e-16, 4.12174649e-16,\n",
       "        4.33864546e-16, 4.55554443e-16, 4.77244340e-16, 4.98934237e-16,\n",
       "        5.20624133e-16, 5.42314030e-16, 5.64003927e-16, 5.85693824e-16,\n",
       "        6.07383721e-16, 6.29073618e-16, 6.50763515e-16, 6.72453412e-16,\n",
       "        6.94143309e-16, 7.15833206e-16, 7.37523103e-16, 7.59213000e-16]),\n",
       " <a list of 35 Patch objects>)"
      ]
     },
     "execution_count": 92,
     "metadata": {},
     "output_type": "execute_result"
    },
    {
     "data": {
      "image/png": "[encoded data removed]",
      "text/plain": [
       "<Figure size 432x288 with 1 Axes>"
      ]
     },
     "metadata": {},
     "output_type": "display_data"
    }
   ],
   "source": [
    "short_diffs = [float(i) for i in short_diffs];\n",
    "\n",
    "plt.hist(short_diffs, 35)"
   ]
  },
  {
   "cell_type": "code",
   "execution_count": 94,
   "metadata": {},
   "outputs": [
    {
     "data": {
      "text/plain": [
       "ModeResult(mode=array([6.66065e-20]), count=array([2]))"
      ]
     },
     "execution_count": 94,
     "metadata": {},
     "output_type": "execute_result"
    }
   ],
   "source": [
    "\n",
    "mode(short_diffs)\n"
   ]
  },
  {
   "cell_type": "code",
   "execution_count": 100,
   "metadata": {},
   "outputs": [
    {
     "data": {
      "text/plain": [
       "(array([4., 6., 1., 0., 1., 1., 0., 2., 0., 2.]),\n",
       " array([1.11050708e-17, 8.70263596e-17, 1.62947648e-16, 2.38868937e-16,\n",
       "        3.14790226e-16, 3.90711515e-16, 4.66632803e-16, 5.42554092e-16,\n",
       "        6.18475381e-16, 6.94396670e-16, 7.70317959e-16]),\n",
       " <a list of 10 Patch objects>)"
      ]
     },
     "execution_count": 100,
     "metadata": {},
     "output_type": "execute_result"
    },
    {
     "data": {
      "image/png": "[encoded data removed]",
      "text/plain": [
       "<Figure size 432x288 with 1 Axes>"
      ]
     },
     "metadata": {},
     "output_type": "display_data"
    }
   ],
   "source": [
    "plt.hist(charges,10)"
   ]
  }
 ],
 "metadata": {
  "kernelspec": {
   "display_name": "Python 3",
   "language": "python",
   "name": "python3"
  },
  "language_info": {
   "codemirror_mode": {
    "name": "ipython",
    "version": 3
   },
   "file_extension": ".py",
   "mimetype": "text/x-python",
   "name": "python",
   "nbconvert_exporter": "python",
   "pygments_lexer": "ipython3",
   "version": "3.6.5"
  }
 },
 "nbformat": 4,
 "nbformat_minor": 2
}
