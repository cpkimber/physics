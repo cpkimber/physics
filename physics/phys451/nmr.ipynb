{
 "cells": [
  {
   "cell_type": "code",
   "execution_count": 21,
   "metadata": {},
   "outputs": [
    {
     "name": "stdout",
     "output_type": "stream",
     "text": [
      "Populating the interactive namespace from numpy and matplotlib\n"
     ]
    },
    {
     "name": "stderr",
     "output_type": "stream",
     "text": [
      "/home/cam/anaconda3/lib/python3.6/site-packages/IPython/core/magics/pylab.py:160: UserWarning: pylab import has clobbered these variables: ['e', 'f']\n",
      "`%matplotlib` prevents importing * from pylab and numpy\n",
      "  \"\\n`%matplotlib` prevents importing * from pylab and numpy\"\n"
     ]
    }
   ],
   "source": [
    "%pylab inline\n",
    "import statistics"
   ]
  },
  {
   "cell_type": "code",
   "execution_count": 55,
   "metadata": {},
   "outputs": [],
   "source": [
    "voltages = [16.9, 16.3, 17.4, 17.9, 18.5, 19.0, 19.6, 20.1, 20.6, 21.2, 21.6, 22.2, 22.8, 23.1, 23.7, 24.3, 16.0, 14.8] # mV\n",
    "freqs    = [17.005, 16.501, 17.502, 18.001, 18.500, 19.000, 19.500, 19.998, 20.500, 21.0, 21.501, 22.000, 22.501, 23.000, 23.5, 24.0, 16.002, 15.0]\n",
    "freqs    = [i * 1e6 for i in freqs]\n",
    "currents = [i*1/50 for i in voltages]"
   ]
  },
  {
   "cell_type": "code",
   "execution_count": 70,
   "metadata": {},
   "outputs": [
    {
     "name": "stdout",
     "output_type": "stream",
     "text": [
      "540.375\n",
      "The magnetic dipole moment of the proton is 7.903e-11 ev/Gauss pm 1.03e-12\n"
     ]
    }
   ],
   "source": [
    "perm_bs  = [560, 559, 554, 560, 560, 556, 557, 417]\n",
    "res_freq = [20.622, 20.627]\n",
    "sf = statistics.stdev(res_freq)\n",
    "f        = sum(res_freq)/2 * 1e6\n",
    "b_bar    = sum(perm_bs)/len(perm_bs)\n",
    "sb = statistics.stdev(perm_bs)\n",
    "h = 6.626e-34 # Js\n",
    "e = 1.6e-19\n",
    "h /= e\n",
    "proton_dipole_moment = (h * f)/(2 * b_bar)\n",
    "\n",
    "sp = ((h/(2*b_bar))**2 * sf**2) + (-(h*f)/(2*b_bar**2))**2 * sb\n",
    "\n",
    "print(\"The magnetic dipole moment of the proton is %2.3e ev/Gauss pm %2.2e\" % (proton_dipole_moment, sp**(1/2)))"
   ]
  },
  {
   "cell_type": "code",
   "execution_count": 61,
   "metadata": {},
   "outputs": [],
   "source": [
    "electro_b = [h * i / (20 * proton_dipole_moment) for i in freqs]"
   ]
  },
  {
   "cell_type": "code",
   "execution_count": 80,
   "metadata": {},
   "outputs": [
    {
     "name": "stdout",
     "output_type": "stream",
     "text": [
      "124.53176527141436\n",
      "2.4158444662016727\n"
     ]
    },
    {
     "data": {
      "image/png": "[encoded data removed]",
      "text/plain": [
       "<Figure size 432x288 with 1 Axes>"
      ]
     },
     "metadata": {},
     "output_type": "display_data"
    }
   ],
   "source": [
    "plt.plot(currents, electro_b, 'g*')\n",
    "plt.xlabel(\"Current (Amp)\")\n",
    "plt.ylabel(\"B field (mTesla)\")\n",
    "plt.title(\"Electromagnet B Field as a function of Voltage\")\n",
    "plt.savefig(\"nmr_fig_1.png\")\n",
    "a, b = polyfit(currents, electro_b, 1)\n",
    "print(a)\n",
    "print(b)"
   ]
  },
  {
   "cell_type": "code",
   "execution_count": 67,
   "metadata": {},
   "outputs": [],
   "source": [
    "unknown_freq = 19.010 * 1e6\n",
    "unknown_current = 20.0/ 50\n",
    "unknown_b = 5100\n",
    "unknown_p = h * unknown_freq/ (2 * unknown_b)"
   ]
  },
  {
   "cell_type": "code",
   "execution_count": 69,
   "metadata": {},
   "outputs": [
    {
     "name": "stdout",
     "output_type": "stream",
     "text": [
      "1.5649420323711756e-11\n"
     ]
    },
    {
     "data": {
      "text/plain": [
       "1.528347165598913e-12"
      ]
     },
     "execution_count": 69,
     "metadata": {},
     "output_type": "execute_result"
    }
   ],
   "source": []
  },
  {
   "cell_type": "markdown",
   "metadata": {},
   "source": [
    "8.804315×10^-12 eV/G (electronvolts per gauss) #wolfram"
   ]
  }
 ],
 "metadata": {
  "kernelspec": {
   "display_name": "Python 3",
   "language": "python",
   "name": "python3"
  },
  "language_info": {
   "codemirror_mode": {
    "name": "ipython",
    "version": 3
   },
   "file_extension": ".py",
   "mimetype": "text/x-python",
   "name": "python",
   "nbconvert_exporter": "python",
   "pygments_lexer": "ipython3",
   "version": "3.6.5"
  }
 },
 "nbformat": 4,
 "nbformat_minor": 2
}
